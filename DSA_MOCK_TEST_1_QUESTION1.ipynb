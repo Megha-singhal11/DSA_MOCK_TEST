{
 "cells": [
  {
   "cell_type": "markdown",
   "id": "80ceddf5",
   "metadata": {},
   "source": [
    "### Q1. Move Zeroes\n",
    "Given an integer array nums, move all 0's to the end of it while maintaining the relative order of the non-zero elements.\n",
    "Note that you must do this in-place without making a copy of the array.\n",
    "\n",
    "### Example 1:\n",
    "Input: nums = [0,1,0,3,12]    \n",
    "Output: [1,3,12,0,0]\n",
    "\n",
    "#### Constraints:\n",
    "a. 1 <= nums.length <= 10^4    \n",
    "b. -2^31 <= nums[i] <= 2^31 - 1"
   ]
  },
  {
   "cell_type": "markdown",
   "id": "36343f53",
   "metadata": {},
   "source": [
    "### APPROACH: PARTINIONING THE ARRAY\n",
    "Partitioning an array involves rearranging the elements in a way that separates them into two groups based on a chosen pivot element.\n",
    "\n",
    "### Algorithm:\n",
    "1. Choose a pivot element from the array. The pivot can be any element, but commonly it's the last element or a randomly chosen element.\n",
    "2. Initialize two pointers, i and j, where i starts at the beginning of the array and j starts at the end.\n",
    "3. Repeat the following steps until i and j cross each other:\n",
    "4. Move i towards the right until an element greater than or equal to the pivot is found.\n",
    "5. Move j towards the left until an element less than or equal to the pivot is found.\n",
    "6. If i and j have not crossed each other, swap the elements at i and j.\n",
    "7. Once i and j have crossed each other, swap the pivot element (located at the end) with the element at index i, which is the final position for the pivot element.\n",
    "8. The array is now partitioned, with all elements smaller than the pivot to the left and all elements greater than the pivot to the right."
   ]
  },
  {
   "cell_type": "code",
   "execution_count": 27,
   "id": "857e7a13",
   "metadata": {},
   "outputs": [
    {
     "name": "stdout",
     "output_type": "stream",
     "text": [
      "[1, 3, 12, 0, 0]\n"
     ]
    }
   ],
   "source": [
    "# Python Program to move all zeros to the end\n",
    "nums = [0,1,3,0,12]\n",
    "n = len(nums)\n",
    "j = 0\n",
    "for i in range(n):\n",
    "    if nums[i] != 0:\n",
    "        nums[j], nums[i] = nums[i], nums[j]  # Partitioning the array\n",
    "        j += 1\n",
    "print(nums)"
   ]
  },
  {
   "cell_type": "markdown",
   "id": "971787fb",
   "metadata": {},
   "source": [
    "### Complexity analysis:\n",
    "In this case:\n",
    "    Time Complexity: O(N), where N is the size of elements of the input array.   \n",
    "    Space complexity: O(1) "
   ]
  },
  {
   "cell_type": "markdown",
   "id": "def9e438",
   "metadata": {},
   "source": [
    "## Example 2 :\n",
    "Input: nums = [0]\n",
    "Output: [0]"
   ]
  },
  {
   "cell_type": "markdown",
   "id": "ec10edd1",
   "metadata": {},
   "source": [
    "### Algorithm:\n",
    "\n",
    "1. Initialize a pointer next_non_zero to keep track of the position to place the next non-zero element.\n",
    "2. Iterate through the array nums:\n",
    "3. If the current element is non-zero, move it to the next_non_zero position and increment next_non_zero by 1.\n",
    "4. After the loop, all non-zero elements will be placed in their relative order at the beginning of the array.\n",
    "5. Finally, fill the remaining positions from next_non_zero to the end of the array with zeroes.\n",
    "The output for the given input [0] will be [0], as there is only one element, and it is already a zero."
   ]
  },
  {
   "cell_type": "code",
   "execution_count": 33,
   "id": "561fc9f1",
   "metadata": {},
   "outputs": [
    {
     "name": "stdout",
     "output_type": "stream",
     "text": [
      "[0]\n"
     ]
    }
   ],
   "source": [
    "def moveZeroes(nums):\n",
    "    # Initialize a pointer to keep track of the position to place the next non-zero element\n",
    "    next_non_zero = 0\n",
    "\n",
    "    # Iterate through the array\n",
    "    for num in nums:\n",
    "        # If the current element is non-zero, move it to the next non-zero position\n",
    "        if num != 0:\n",
    "            nums[next_non_zero] = num\n",
    "            next_non_zero += 1\n",
    "\n",
    "    # Fill the remaining positions with zeroes\n",
    "    while next_non_zero < len(nums):\n",
    "        nums[next_non_zero] = 0\n",
    "        next_non_zero += 1\n",
    "\n",
    "# Test case\n",
    "nums = [0]\n",
    "moveZeroes(nums)\n",
    "print(nums)"
   ]
  },
  {
   "cell_type": "markdown",
   "id": "5686d43b",
   "metadata": {},
   "source": [
    "### Complexity analysis:\n",
    "In this case:   \n",
    "    Time Complexity: The algorithm iterates through the array once, so the time complexity is O(n), where n is the length of the input array nums.    \n",
    "    Space Complexity: The algorithm modifies the array in-place without using any additional data structures, so the space complexity is O(1), constant space.\n",
    " \n",
    "### all constraints satisfied\n",
    "The algorithm satisfies the given constraints: 1 <= nums.length <= 10^4 and -2^31 <= nums[i] <= 2^31 - 1."
   ]
  },
  {
   "cell_type": "code",
   "execution_count": null,
   "id": "e5968479",
   "metadata": {},
   "outputs": [],
   "source": []
  }
 ],
 "metadata": {
  "kernelspec": {
   "display_name": "Python 3 (ipykernel)",
   "language": "python",
   "name": "python3"
  },
  "language_info": {
   "codemirror_mode": {
    "name": "ipython",
    "version": 3
   },
   "file_extension": ".py",
   "mimetype": "text/x-python",
   "name": "python",
   "nbconvert_exporter": "python",
   "pygments_lexer": "ipython3",
   "version": "3.9.12"
  }
 },
 "nbformat": 4,
 "nbformat_minor": 5
}
