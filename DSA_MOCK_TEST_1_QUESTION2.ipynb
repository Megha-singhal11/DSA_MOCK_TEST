{
 "cells": [
  {
   "cell_type": "markdown",
   "id": "e7c92352",
   "metadata": {},
   "source": [
    "### Q2. First Unique Character in a String\n",
    "Given a string s, find the first non-repeating character in it and return its index. If it does not exist, return -1.\n",
    "\n",
    "### Example:\n",
    "Input: s = \"leetcode\"\n",
    "Output: 0"
   ]
  },
  {
   "cell_type": "markdown",
   "id": "16ac44b7",
   "metadata": {},
   "source": [
    "### Algorithm:\n",
    "1. We'll use a dictionary char_count to count the occurrences of each character in the string s.\n",
    "2. We iterate through s and update the count for each character in char_count.\n",
    "3. After counting the occurrences, we iterate through s again and find the first character with a count of 1 in char_count. We return its index.\n",
    "4. If no non-repeating character is found, we return -1.\n",
    "5. The output for the given input \"leetcode\" will be 0, as the first non-repeating character is 'l' and its index is 0."
   ]
  },
  {
   "cell_type": "code",
   "execution_count": 2,
   "id": "6213ca2c",
   "metadata": {},
   "outputs": [
    {
     "name": "stdout",
     "output_type": "stream",
     "text": [
      "0\n"
     ]
    }
   ],
   "source": [
    "def firstUniqChar(s):\n",
    "    char_count = {}\n",
    "    \n",
    "    # Count the occurrences of each character in the string\n",
    "    for char in s:\n",
    "        char_count[char] = char_count.get(char, 0) + 1\n",
    "    \n",
    "    # Find the first non-repeating character and return its index\n",
    "    for i, char in enumerate(s):\n",
    "        if char_count[char] == 1:\n",
    "            return i\n",
    "    \n",
    "    return -1\n",
    "\n",
    "# Test case\n",
    "s = \"leetcode\"\n",
    "print(firstUniqChar(s))"
   ]
  },
  {
   "cell_type": "markdown",
   "id": "9923ae0b",
   "metadata": {},
   "source": [
    "### Complexity analysis:\n",
    "In this case:\n",
    "    Time Complexity: The algorithm iterates through the string twice: once for counting the occurrences and once for finding the first non-repeating character. Both iterations take O(n) time, where n is the length of the input string s.   \n",
    "    Space Complexity: The algorithm uses a dictionary char_count to store the count of each character. In the worst case, if all characters are unique, the dictionary will store n key-value pairs. Therefore, the space complexity is O(n).\n",
    "\n",
    "#### constraints satisfied\n",
    "The algorithm satisfies the given constraints: 1 <= s.length <= 10^5 and s consists of only lowercase English letters. It has a linear time complexity with respect to the length of the input string."
   ]
  },
  {
   "cell_type": "markdown",
   "id": "570b1b6f",
   "metadata": {},
   "source": [
    "## Example2:\n",
    "Input: s = \"loveleetcode\"  \n",
    "Output: 2"
   ]
  },
  {
   "cell_type": "markdown",
   "id": "4170f891",
   "metadata": {},
   "source": [
    "### Algorithm:\n",
    "1. We'll use a dictionary char_count to count the occurrences of each character in the string s.\n",
    "2. We iterate through s and update the count for each character in char_count.\n",
    "3. After counting the occurrences, we iterate through s again and find the first character with a count of 1 in char_count. We return its index.\n",
    "4. If no non-repeating character is found, we return -1.\n",
    "5. The output for the given input \"loveleetcode\" will be 2, as the first non-repeating character is 'v' and its index is 2."
   ]
  },
  {
   "cell_type": "code",
   "execution_count": 4,
   "id": "36c6256e",
   "metadata": {},
   "outputs": [
    {
     "name": "stdout",
     "output_type": "stream",
     "text": [
      "2\n"
     ]
    }
   ],
   "source": [
    "def firstUniqChar(s):\n",
    "    char_count = {}\n",
    "    \n",
    "    # Count the occurrences of each character in the string\n",
    "    for char in s:\n",
    "        char_count[char] = char_count.get(char, 0) + 1\n",
    "    \n",
    "    # Find the first non-repeating character and return its index\n",
    "    for i, char in enumerate(s):\n",
    "        if char_count[char] == 1:\n",
    "            return i\n",
    "    \n",
    "    return -1\n",
    "\n",
    "# Test case\n",
    "s = \"loveleetcode\"\n",
    "print(firstUniqChar(s))"
   ]
  },
  {
   "cell_type": "markdown",
   "id": "e89e21dc",
   "metadata": {},
   "source": [
    "### Complexity analysis:\n",
    "In this case:\n",
    "    Time Complexity: The algorithm iterates through the string twice: once for counting the occurrences and once for finding the first non-repeating character. Both iterations take O(n) time, where n is the length of the input string s.   \n",
    "    Space Complexity: The algorithm uses a dictionary char_count to store the count of each character. In the worst case, if all characters are unique, the dictionary will store n key-value pairs. Therefore, the space complexity is O(n).\n",
    "\n",
    "### constraints satisfied\n",
    "The algorithm satisfies the given constraints: 1 <= s.length <= 10^5 and s consists of only lowercase English letters. It has a linear time complexity with respect to the length of the input string."
   ]
  },
  {
   "cell_type": "markdown",
   "id": "a9ff1c4b",
   "metadata": {},
   "source": [
    "## Example 3: \n",
    "Input: s = \"aabb\"\n",
    "Output: -1"
   ]
  },
  {
   "cell_type": "markdown",
   "id": "97500bcc",
   "metadata": {},
   "source": [
    "### Algorithm:\n",
    "1. We'll use a dictionary char_count to count the occurrences of each character in the string s.\n",
    "2. We iterate through s and update the count for each character in char_count.\n",
    "3. After counting the occurrences, we iterate through s again and find the first character with a count of 1 in char_count. We return its index.\n",
    "4. If no non-repeating character is found, we return -1.\n",
    "5. The output for the given input \"aabb\" will be -1, as there are no non-repeating characters in the string."
   ]
  },
  {
   "cell_type": "code",
   "execution_count": 5,
   "id": "73befc4e",
   "metadata": {},
   "outputs": [
    {
     "name": "stdout",
     "output_type": "stream",
     "text": [
      "-1\n"
     ]
    }
   ],
   "source": [
    "def firstUniqChar(s):\n",
    "    char_count = {}\n",
    "    \n",
    "    # Count the occurrences of each character in the string\n",
    "    for char in s:\n",
    "        char_count[char] = char_count.get(char, 0) + 1\n",
    "    \n",
    "    # Find the first non-repeating character and return its index\n",
    "    for i, char in enumerate(s):\n",
    "        if char_count[char] == 1:\n",
    "            return i\n",
    "    \n",
    "    return -1\n",
    "\n",
    "# Test case\n",
    "s = \"aabb\"\n",
    "print(firstUniqChar(s))"
   ]
  },
  {
   "cell_type": "markdown",
   "id": "96a868bd",
   "metadata": {},
   "source": [
    "### Complexity analysis:\n",
    "In this case:\n",
    "    Time Complexity: The algorithm iterates through the string twice: once for counting the occurrences and once for finding the first non-repeating character. Both iterations take O(n) time, where n is the length of the input string s.   \n",
    "    Space Complexity: The algorithm uses a dictionary char_count to store the count of each character. In the worst case, if all characters are the same, the dictionary will store only one key-value pair. Therefore, the space complexity is O(1).\n",
    "\n",
    "### constraints satisfied        \n",
    "The algorithm satisfies the given constraints: 1 <= s.length <= 10^5 and s consists of only lowercase English letters. It has a linear time complexity with respect to the length of the input string."
   ]
  },
  {
   "cell_type": "code",
   "execution_count": null,
   "id": "d2334533",
   "metadata": {},
   "outputs": [],
   "source": []
  }
 ],
 "metadata": {
  "kernelspec": {
   "display_name": "Python 3 (ipykernel)",
   "language": "python",
   "name": "python3"
  },
  "language_info": {
   "codemirror_mode": {
    "name": "ipython",
    "version": 3
   },
   "file_extension": ".py",
   "mimetype": "text/x-python",
   "name": "python",
   "nbconvert_exporter": "python",
   "pygments_lexer": "ipython3",
   "version": "3.9.12"
  }
 },
 "nbformat": 4,
 "nbformat_minor": 5
}
